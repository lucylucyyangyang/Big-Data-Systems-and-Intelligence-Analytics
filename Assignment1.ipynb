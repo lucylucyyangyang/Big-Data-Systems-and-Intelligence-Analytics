{
 "cells": [
  {
   "cell_type": "code",
   "execution_count": 67,
   "metadata": {
    "collapsed": true
   },
   "outputs": [],
   "source": [
    "import pandas as pd\n",
    "import numpy as np\n",
    "import sklearn.preprocessing as pre\n",
    "from scipy import stats, integrate\n",
    "import matplotlib.pyplot as plt\n",
    "import seaborn as sns\n",
    "from sklearn.model_selection import train_test_split\n",
    "from sklearn import tree\n",
    "from sklearn.ensemble import RandomForestClassifier\n",
    "from sklearn.metrics import accuracy_score\n",
    "from sklearn.metrics import confusion_matrix\n",
    "import graphviz "
   ]
  },
  {
   "cell_type": "markdown",
   "metadata": {},
   "source": [
    "# _Part A_"
   ]
  },
  {
   "cell_type": "markdown",
   "metadata": {},
   "source": [
    "# 1. Load and View my data"
   ]
  },
  {
   "cell_type": "markdown",
   "metadata": {},
   "source": [
    "## 1.1 Load my Data Can You Predict Product Backorders?"
   ]
  },
  {
   "cell_type": "code",
   "execution_count": 22,
   "metadata": {},
   "outputs": [
    {
     "name": "stderr",
     "output_type": "stream",
     "text": [
      "E:\\_LastSemester\\2018Spring\\DataScience\\Tool\\Anaconda3\\lib\\site-packages\\IPython\\core\\interactiveshell.py:2698: DtypeWarning: Columns (0) have mixed types. Specify dtype option on import or set low_memory=False.\n",
      "  interactivity=interactivity, compiler=compiler, result=result)\n"
     ]
    },
    {
     "data": {
      "text/html": [
       "<div>\n",
       "<style>\n",
       "    .dataframe thead tr:only-child th {\n",
       "        text-align: right;\n",
       "    }\n",
       "\n",
       "    .dataframe thead th {\n",
       "        text-align: left;\n",
       "    }\n",
       "\n",
       "    .dataframe tbody tr th {\n",
       "        vertical-align: top;\n",
       "    }\n",
       "</style>\n",
       "<table border=\"1\" class=\"dataframe\">\n",
       "  <thead>\n",
       "    <tr style=\"text-align: right;\">\n",
       "      <th></th>\n",
       "      <th>sku</th>\n",
       "      <th>national_inv</th>\n",
       "      <th>lead_time</th>\n",
       "      <th>in_transit_qty</th>\n",
       "      <th>forecast_3_month</th>\n",
       "      <th>forecast_6_month</th>\n",
       "      <th>forecast_9_month</th>\n",
       "      <th>sales_1_month</th>\n",
       "      <th>sales_3_month</th>\n",
       "      <th>sales_6_month</th>\n",
       "      <th>...</th>\n",
       "      <th>pieces_past_due</th>\n",
       "      <th>perf_6_month_avg</th>\n",
       "      <th>perf_12_month_avg</th>\n",
       "      <th>local_bo_qty</th>\n",
       "      <th>deck_risk</th>\n",
       "      <th>oe_constraint</th>\n",
       "      <th>ppap_risk</th>\n",
       "      <th>stop_auto_buy</th>\n",
       "      <th>rev_stop</th>\n",
       "      <th>went_on_backorder</th>\n",
       "    </tr>\n",
       "  </thead>\n",
       "  <tbody>\n",
       "    <tr>\n",
       "      <th>0</th>\n",
       "      <td>1026827</td>\n",
       "      <td>0.0</td>\n",
       "      <td>NaN</td>\n",
       "      <td>0.0</td>\n",
       "      <td>0.0</td>\n",
       "      <td>0.0</td>\n",
       "      <td>0.0</td>\n",
       "      <td>0.0</td>\n",
       "      <td>0.0</td>\n",
       "      <td>0.0</td>\n",
       "      <td>...</td>\n",
       "      <td>0.0</td>\n",
       "      <td>-99.00</td>\n",
       "      <td>-99.00</td>\n",
       "      <td>0.0</td>\n",
       "      <td>No</td>\n",
       "      <td>No</td>\n",
       "      <td>No</td>\n",
       "      <td>Yes</td>\n",
       "      <td>No</td>\n",
       "      <td>No</td>\n",
       "    </tr>\n",
       "    <tr>\n",
       "      <th>1</th>\n",
       "      <td>1043384</td>\n",
       "      <td>2.0</td>\n",
       "      <td>9.0</td>\n",
       "      <td>0.0</td>\n",
       "      <td>0.0</td>\n",
       "      <td>0.0</td>\n",
       "      <td>0.0</td>\n",
       "      <td>0.0</td>\n",
       "      <td>0.0</td>\n",
       "      <td>0.0</td>\n",
       "      <td>...</td>\n",
       "      <td>0.0</td>\n",
       "      <td>0.99</td>\n",
       "      <td>0.99</td>\n",
       "      <td>0.0</td>\n",
       "      <td>No</td>\n",
       "      <td>No</td>\n",
       "      <td>No</td>\n",
       "      <td>Yes</td>\n",
       "      <td>No</td>\n",
       "      <td>No</td>\n",
       "    </tr>\n",
       "    <tr>\n",
       "      <th>2</th>\n",
       "      <td>1043696</td>\n",
       "      <td>2.0</td>\n",
       "      <td>NaN</td>\n",
       "      <td>0.0</td>\n",
       "      <td>0.0</td>\n",
       "      <td>0.0</td>\n",
       "      <td>0.0</td>\n",
       "      <td>0.0</td>\n",
       "      <td>0.0</td>\n",
       "      <td>0.0</td>\n",
       "      <td>...</td>\n",
       "      <td>0.0</td>\n",
       "      <td>-99.00</td>\n",
       "      <td>-99.00</td>\n",
       "      <td>0.0</td>\n",
       "      <td>Yes</td>\n",
       "      <td>No</td>\n",
       "      <td>No</td>\n",
       "      <td>Yes</td>\n",
       "      <td>No</td>\n",
       "      <td>No</td>\n",
       "    </tr>\n",
       "    <tr>\n",
       "      <th>3</th>\n",
       "      <td>1043852</td>\n",
       "      <td>7.0</td>\n",
       "      <td>8.0</td>\n",
       "      <td>0.0</td>\n",
       "      <td>0.0</td>\n",
       "      <td>0.0</td>\n",
       "      <td>0.0</td>\n",
       "      <td>0.0</td>\n",
       "      <td>0.0</td>\n",
       "      <td>0.0</td>\n",
       "      <td>...</td>\n",
       "      <td>0.0</td>\n",
       "      <td>0.10</td>\n",
       "      <td>0.13</td>\n",
       "      <td>0.0</td>\n",
       "      <td>No</td>\n",
       "      <td>No</td>\n",
       "      <td>No</td>\n",
       "      <td>Yes</td>\n",
       "      <td>No</td>\n",
       "      <td>No</td>\n",
       "    </tr>\n",
       "    <tr>\n",
       "      <th>4</th>\n",
       "      <td>1044048</td>\n",
       "      <td>8.0</td>\n",
       "      <td>NaN</td>\n",
       "      <td>0.0</td>\n",
       "      <td>0.0</td>\n",
       "      <td>0.0</td>\n",
       "      <td>0.0</td>\n",
       "      <td>0.0</td>\n",
       "      <td>0.0</td>\n",
       "      <td>0.0</td>\n",
       "      <td>...</td>\n",
       "      <td>0.0</td>\n",
       "      <td>-99.00</td>\n",
       "      <td>-99.00</td>\n",
       "      <td>0.0</td>\n",
       "      <td>Yes</td>\n",
       "      <td>No</td>\n",
       "      <td>No</td>\n",
       "      <td>Yes</td>\n",
       "      <td>No</td>\n",
       "      <td>No</td>\n",
       "    </tr>\n",
       "  </tbody>\n",
       "</table>\n",
       "<p>5 rows × 23 columns</p>\n",
       "</div>"
      ],
      "text/plain": [
       "       sku  national_inv  lead_time  in_transit_qty  forecast_3_month  \\\n",
       "0  1026827           0.0        NaN             0.0               0.0   \n",
       "1  1043384           2.0        9.0             0.0               0.0   \n",
       "2  1043696           2.0        NaN             0.0               0.0   \n",
       "3  1043852           7.0        8.0             0.0               0.0   \n",
       "4  1044048           8.0        NaN             0.0               0.0   \n",
       "\n",
       "   forecast_6_month  forecast_9_month  sales_1_month  sales_3_month  \\\n",
       "0               0.0               0.0            0.0            0.0   \n",
       "1               0.0               0.0            0.0            0.0   \n",
       "2               0.0               0.0            0.0            0.0   \n",
       "3               0.0               0.0            0.0            0.0   \n",
       "4               0.0               0.0            0.0            0.0   \n",
       "\n",
       "   sales_6_month        ...         pieces_past_due  perf_6_month_avg  \\\n",
       "0            0.0        ...                     0.0            -99.00   \n",
       "1            0.0        ...                     0.0              0.99   \n",
       "2            0.0        ...                     0.0            -99.00   \n",
       "3            0.0        ...                     0.0              0.10   \n",
       "4            0.0        ...                     0.0            -99.00   \n",
       "\n",
       "  perf_12_month_avg  local_bo_qty  deck_risk  oe_constraint  ppap_risk  \\\n",
       "0            -99.00           0.0         No             No         No   \n",
       "1              0.99           0.0         No             No         No   \n",
       "2            -99.00           0.0        Yes             No         No   \n",
       "3              0.13           0.0         No             No         No   \n",
       "4            -99.00           0.0        Yes             No         No   \n",
       "\n",
       "  stop_auto_buy rev_stop went_on_backorder  \n",
       "0           Yes       No                No  \n",
       "1           Yes       No                No  \n",
       "2           Yes       No                No  \n",
       "3           Yes       No                No  \n",
       "4           Yes       No                No  \n",
       "\n",
       "[5 rows x 23 columns]"
      ]
     },
     "execution_count": 22,
     "metadata": {},
     "output_type": "execute_result"
    }
   ],
   "source": [
    "df = pd.read_csv('C:\\\\Users\\\\LucyYang\\\\Juypter\\\\Kaggle_Training_Dataset_v2.csv')\n",
    "df.head()"
   ]
  },
  {
   "cell_type": "markdown",
   "metadata": {},
   "source": [
    "## 1.2 View basic info"
   ]
  },
  {
   "cell_type": "code",
   "execution_count": 23,
   "metadata": {},
   "outputs": [
    {
     "data": {
      "text/plain": [
       "(1687861, 23)"
      ]
     },
     "execution_count": 23,
     "metadata": {},
     "output_type": "execute_result"
    }
   ],
   "source": [
    "df.shape"
   ]
  },
  {
   "cell_type": "code",
   "execution_count": 24,
   "metadata": {},
   "outputs": [
    {
     "name": "stdout",
     "output_type": "stream",
     "text": [
      "<class 'pandas.core.frame.DataFrame'>\n",
      "RangeIndex: 1687861 entries, 0 to 1687860\n",
      "Data columns (total 23 columns):\n",
      "sku                  1687861 non-null object\n",
      "national_inv         1687860 non-null float64\n",
      "lead_time            1586967 non-null float64\n",
      "in_transit_qty       1687860 non-null float64\n",
      "forecast_3_month     1687860 non-null float64\n",
      "forecast_6_month     1687860 non-null float64\n",
      "forecast_9_month     1687860 non-null float64\n",
      "sales_1_month        1687860 non-null float64\n",
      "sales_3_month        1687860 non-null float64\n",
      "sales_6_month        1687860 non-null float64\n",
      "sales_9_month        1687860 non-null float64\n",
      "min_bank             1687860 non-null float64\n",
      "potential_issue      1687860 non-null object\n",
      "pieces_past_due      1687860 non-null float64\n",
      "perf_6_month_avg     1687860 non-null float64\n",
      "perf_12_month_avg    1687860 non-null float64\n",
      "local_bo_qty         1687860 non-null float64\n",
      "deck_risk            1687860 non-null object\n",
      "oe_constraint        1687860 non-null object\n",
      "ppap_risk            1687860 non-null object\n",
      "stop_auto_buy        1687860 non-null object\n",
      "rev_stop             1687860 non-null object\n",
      "went_on_backorder    1687860 non-null object\n",
      "dtypes: float64(15), object(8)\n",
      "memory usage: 296.2+ MB\n"
     ]
    }
   ],
   "source": [
    "df.info()"
   ]
  },
  {
   "cell_type": "markdown",
   "metadata": {},
   "source": [
    "## 1.3 View categorical variables"
   ]
  },
  {
   "cell_type": "code",
   "execution_count": 25,
   "metadata": {},
   "outputs": [
    {
     "data": {
      "text/plain": [
       "No     1686953\n",
       "Yes        907\n",
       "Name: potential_issue, dtype: int64"
      ]
     },
     "execution_count": 25,
     "metadata": {},
     "output_type": "execute_result"
    }
   ],
   "source": [
    "df.deck_risk.value_counts()\n",
    "df.oe_constraint.value_counts()\n",
    "df.ppap_risk.value_counts()\n",
    "df.stop_auto_buy.value_counts()\n",
    "df.rev_stop.value_counts()\n",
    "df.went_on_backorder.value_counts()\n",
    "df.potential_issue.value_counts()"
   ]
  },
  {
   "cell_type": "markdown",
   "metadata": {},
   "source": [
    "# 2. Data Cleaning"
   ]
  },
  {
   "cell_type": "markdown",
   "metadata": {},
   "source": [
    "## 2.1 Check missing value"
   ]
  },
  {
   "cell_type": "markdown",
   "metadata": {},
   "source": [
    "delete a row with all values are NaN"
   ]
  },
  {
   "cell_type": "code",
   "execution_count": 26,
   "metadata": {},
   "outputs": [
    {
     "data": {
      "text/plain": [
       "sku                       0\n",
       "national_inv              0\n",
       "lead_time            100893\n",
       "in_transit_qty            0\n",
       "forecast_3_month          0\n",
       "forecast_6_month          0\n",
       "forecast_9_month          0\n",
       "sales_1_month             0\n",
       "sales_3_month             0\n",
       "sales_6_month             0\n",
       "sales_9_month             0\n",
       "min_bank                  0\n",
       "potential_issue           0\n",
       "pieces_past_due           0\n",
       "perf_6_month_avg          0\n",
       "perf_12_month_avg         0\n",
       "local_bo_qty              0\n",
       "deck_risk                 0\n",
       "oe_constraint             0\n",
       "ppap_risk                 0\n",
       "stop_auto_buy             0\n",
       "rev_stop                  0\n",
       "went_on_backorder         0\n",
       "dtype: int64"
      ]
     },
     "execution_count": 26,
     "metadata": {},
     "output_type": "execute_result"
    }
   ],
   "source": [
    "df.drop(df.index[1687860], inplace = True)\n",
    "df.isnull().sum()"
   ]
  },
  {
   "cell_type": "markdown",
   "metadata": {},
   "source": [
    "Check the proportion of missing value"
   ]
  },
  {
   "cell_type": "markdown",
   "metadata": {},
   "source": [
    "Replace the missing value with mean"
   ]
  },
  {
   "cell_type": "markdown",
   "metadata": {},
   "source": [
    "**a) deal with column 'lead_time' **"
   ]
  },
  {
   "cell_type": "markdown",
   "metadata": {},
   "source": [
    "the 'lead_time' is a skew right distribution, so we replace the missing value with the mean value_(In practice, for skewed distributions the most commonly reported typical value is the mean)"
   ]
  },
  {
   "cell_type": "code",
   "execution_count": 27,
   "metadata": {},
   "outputs": [
    {
     "data": {
      "text/plain": [
       "0.059775692296754473"
      ]
     },
     "execution_count": 27,
     "metadata": {},
     "output_type": "execute_result"
    }
   ],
   "source": [
    "df.lead_time.isnull().sum()/df.shape[0]"
   ]
  },
  {
   "cell_type": "code",
   "execution_count": 77,
   "metadata": {},
   "outputs": [
    {
     "data": {
      "image/png": "[encoded data removed]",
      "text/plain": [
       "<matplotlib.figure.Figure at 0x238b242fb70>"
      ]
     },
     "metadata": {},
     "output_type": "display_data"
    },
    {
     "data": {
      "text/plain": [
       "<matplotlib.axes._subplots.AxesSubplot at 0x238b3249358>"
      ]
     },
     "execution_count": 77,
     "metadata": {},
     "output_type": "execute_result"
    }
   ],
   "source": [
    "plt.show()\n",
    "df.lead_time.hist(figsize = (15, 20))"
   ]
  },
  {
   "cell_type": "code",
   "execution_count": 29,
   "metadata": {
    "collapsed": true
   },
   "outputs": [],
   "source": [
    "df.lead_time.fillna(df.lead_time.mean(), inplace = True)"
   ]
  },
  {
   "cell_type": "code",
   "execution_count": 30,
   "metadata": {},
   "outputs": [
    {
     "data": {
      "text/plain": [
       "0"
      ]
     },
     "execution_count": 30,
     "metadata": {},
     "output_type": "execute_result"
    }
   ],
   "source": [
    "df.lead_time.isnull().sum()"
   ]
  },
  {
   "cell_type": "markdown",
   "metadata": {},
   "source": [
    "**b) deal with column 'perf_6_month_avg' (for there missing value is -99)**"
   ]
  },
  {
   "cell_type": "markdown",
   "metadata": {},
   "source": [
    "the 'perf_6_month_avg' is a skew left distribution, so we replace the missing value with the mean value_(In practice, for skewed distributions the most commonly reported typical value is the mean)"
   ]
  },
  {
   "cell_type": "code",
   "execution_count": 31,
   "metadata": {},
   "outputs": [
    {
     "data": {
      "text/plain": [
       "0.076711338618131841"
      ]
     },
     "execution_count": 31,
     "metadata": {},
     "output_type": "execute_result"
    }
   ],
   "source": [
    "df.perf_6_month_avg.value_counts(dropna = False).values[2]/df.shape[0]"
   ]
  },
  {
   "cell_type": "code",
   "execution_count": 32,
   "metadata": {
    "collapsed": true
   },
   "outputs": [],
   "source": [
    "df.perf_6_month_avg.replace(-99.00, np.nan, inplace = True)"
   ]
  },
  {
   "cell_type": "code",
   "execution_count": 79,
   "metadata": {},
   "outputs": [
    {
     "data": {
      "image/png": "[encoded data removed]",
      "text/plain": [
       "<matplotlib.figure.Figure at 0x23941bfd6a0>"
      ]
     },
     "metadata": {},
     "output_type": "display_data"
    },
    {
     "data": {
      "text/plain": [
       "<matplotlib.axes._subplots.AxesSubplot at 0x23941c22f28>"
      ]
     },
     "execution_count": 79,
     "metadata": {},
     "output_type": "execute_result"
    }
   ],
   "source": [
    "plt.show()\n",
    "df.perf_6_month_avg.hist(figsize = (15, 20))"
   ]
  },
  {
   "cell_type": "code",
   "execution_count": 34,
   "metadata": {},
   "outputs": [
    {
     "data": {
      "text/plain": [
       "0"
      ]
     },
     "execution_count": 34,
     "metadata": {},
     "output_type": "execute_result"
    }
   ],
   "source": [
    "df.perf_6_month_avg.fillna(df.perf_6_month_avg.mean(), inplace = True)\n",
    "df.perf_6_month_avg.isnull().sum()"
   ]
  },
  {
   "cell_type": "markdown",
   "metadata": {},
   "source": [
    "**c) deal with column 'perf_12_month_avg' (for there missing value is -99)**"
   ]
  },
  {
   "cell_type": "markdown",
   "metadata": {},
   "source": [
    "the 'perf_12_month_avg' is a skew left distribution, so we replace the missing value with the mean value_(In practice, for skewed distributions the most commonly reported typical value is the mean)"
   ]
  },
  {
   "cell_type": "code",
   "execution_count": 35,
   "metadata": {},
   "outputs": [
    {
     "data": {
      "text/plain": [
       "0.069710758001256035"
      ]
     },
     "execution_count": 35,
     "metadata": {},
     "output_type": "execute_result"
    }
   ],
   "source": [
    "df.perf_12_month_avg.value_counts(dropna = False).values[2]/df.shape[0]"
   ]
  },
  {
   "cell_type": "code",
   "execution_count": 36,
   "metadata": {
    "collapsed": true
   },
   "outputs": [],
   "source": [
    "df.perf_12_month_avg.replace(-99.00, np.nan, inplace = True)"
   ]
  },
  {
   "cell_type": "code",
   "execution_count": 81,
   "metadata": {},
   "outputs": [
    {
     "data": {
      "image/png": "[encoded data removed]",
      "text/plain": [
       "<matplotlib.figure.Figure at 0x23942561be0>"
      ]
     },
     "metadata": {},
     "output_type": "display_data"
    },
    {
     "data": {
      "text/plain": [
       "<matplotlib.axes._subplots.AxesSubplot at 0x2394c484828>"
      ]
     },
     "execution_count": 81,
     "metadata": {},
     "output_type": "execute_result"
    }
   ],
   "source": [
    "plt.show()\n",
    "df.perf_12_month_avg.hist(figsize = (15, 20))"
   ]
  },
  {
   "cell_type": "code",
   "execution_count": 38,
   "metadata": {},
   "outputs": [
    {
     "data": {
      "text/plain": [
       "0"
      ]
     },
     "execution_count": 38,
     "metadata": {},
     "output_type": "execute_result"
    }
   ],
   "source": [
    "df.perf_12_month_avg.fillna(df.perf_12_month_avg.mean(), inplace = True)\n",
    "df.perf_12_month_avg.isnull().sum()"
   ]
  },
  {
   "cell_type": "markdown",
   "metadata": {},
   "source": [
    "## 2.1 Check inappropraite value"
   ]
  },
  {
   "cell_type": "markdown",
   "metadata": {},
   "source": [
    "check data type of each column"
   ]
  },
  {
   "cell_type": "code",
   "execution_count": 39,
   "metadata": {},
   "outputs": [
    {
     "data": {
      "text/plain": [
       "sku                   object\n",
       "national_inv         float64\n",
       "lead_time            float64\n",
       "in_transit_qty       float64\n",
       "forecast_3_month     float64\n",
       "forecast_6_month     float64\n",
       "forecast_9_month     float64\n",
       "sales_1_month        float64\n",
       "sales_3_month        float64\n",
       "sales_6_month        float64\n",
       "sales_9_month        float64\n",
       "min_bank             float64\n",
       "potential_issue       object\n",
       "pieces_past_due      float64\n",
       "perf_6_month_avg     float64\n",
       "perf_12_month_avg    float64\n",
       "local_bo_qty         float64\n",
       "deck_risk             object\n",
       "oe_constraint         object\n",
       "ppap_risk             object\n",
       "stop_auto_buy         object\n",
       "rev_stop              object\n",
       "went_on_backorder     object\n",
       "dtype: object"
      ]
     },
     "execution_count": 39,
     "metadata": {},
     "output_type": "execute_result"
    }
   ],
   "source": [
    "df.dtypes"
   ]
  },
  {
   "cell_type": "markdown",
   "metadata": {},
   "source": [
    "check each column whether they have inappropraite value"
   ]
  },
  {
   "cell_type": "code",
   "execution_count": 40,
   "metadata": {},
   "outputs": [
    {
     "data": {
      "text/plain": [
       "Series([], Name: local_bo_qty, dtype: float64)"
      ]
     },
     "execution_count": 40,
     "metadata": {},
     "output_type": "execute_result"
    }
   ],
   "source": [
    "df.national_inv.value_counts(dropna = False)\n",
    "df.in_transit_qty.loc[df['in_transit_qty'] < 0]\n",
    "df.forecast_3_month.loc[df['forecast_3_month'] < 0]\n",
    "df.forecast_6_month.loc[df['forecast_6_month'] < 0]\n",
    "df.forecast_9_month.loc[df['forecast_9_month'] < 0]\n",
    "df.sales_1_month.loc[df['sales_1_month'] < 0]\n",
    "df.sales_3_month.loc[df['sales_3_month'] < 0]\n",
    "df.sales_6_month.loc[df['sales_6_month'] < 0]\n",
    "df.sales_9_month.loc[df['sales_9_month'] < 0]\n",
    "df.min_bank.loc[df['min_bank'] < 0]\n",
    "df.pieces_past_due.loc[df['pieces_past_due'] < 0]\n",
    "df.local_bo_qty.loc[df['local_bo_qty'] < 0]"
   ]
  },
  {
   "cell_type": "markdown",
   "metadata": {},
   "source": [
    "# 3. Data distribution"
   ]
  },
  {
   "cell_type": "markdown",
   "metadata": {},
   "source": [
    "## 3.1 Plot each column distribution"
   ]
  },
  {
   "cell_type": "markdown",
   "metadata": {},
   "source": [
    "Qustion 3.1: How is  the data distribution?"
   ]
  },
  {
   "cell_type": "markdown",
   "metadata": {},
   "source": [
    "Answer as follow:"
   ]
  },
  {
   "cell_type": "markdown",
   "metadata": {},
   "source": [
    "a) **forecast_3_month is a skew right distribution. Most values are gathered in [0, 20000]** (the mean is greater than the median.)"
   ]
  },
  {
   "cell_type": "code",
   "execution_count": 85,
   "metadata": {},
   "outputs": [
    {
     "data": {
      "image/png": "[encoded data removed]",
      "text/plain": [
       "<matplotlib.figure.Figure at 0x2394c972f60>"
      ]
     },
     "metadata": {},
     "output_type": "display_data"
    },
    {
     "data": {
      "text/plain": [
       "<matplotlib.axes._subplots.AxesSubplot at 0x2394c9d65f8>"
      ]
     },
     "execution_count": 85,
     "metadata": {},
     "output_type": "execute_result"
    }
   ],
   "source": [
    "plt.show()\n",
    "df.forecast_3_month.hist(figsize = (15, 20), range = [0, 50000])"
   ]
  },
  {
   "cell_type": "markdown",
   "metadata": {},
   "source": [
    "b) **in_transit_qty is a skew right distribution. Most values are gathered in [0, 10000]** (the mean is greater than the median.)"
   ]
  },
  {
   "cell_type": "code",
   "execution_count": 88,
   "metadata": {},
   "outputs": [
    {
     "data": {
      "image/png": "[encoded data removed]",
      "text/plain": [
       "<matplotlib.figure.Figure at 0x2394cb70320>"
      ]
     },
     "metadata": {},
     "output_type": "display_data"
    },
    {
     "data": {
      "text/plain": [
       "<matplotlib.axes._subplots.AxesSubplot at 0x2394cb9d7b8>"
      ]
     },
     "execution_count": 88,
     "metadata": {},
     "output_type": "execute_result"
    }
   ],
   "source": [
    "plt.show()\n",
    "df.in_transit_qty.hist(figsize = (15, 20), range = [0, 30000])"
   ]
  },
  {
   "cell_type": "markdown",
   "metadata": {},
   "source": [
    "c) **lead_time is a skew right distribution. Most values are gathered in [0, 60]** (the mean is greater than the median.)"
   ]
  },
  {
   "cell_type": "code",
   "execution_count": 91,
   "metadata": {},
   "outputs": [
    {
     "data": {
      "image/png": "[encoded data removed]",
      "text/plain": [
       "<matplotlib.figure.Figure at 0x2394ce32630>"
      ]
     },
     "metadata": {},
     "output_type": "display_data"
    },
    {
     "data": {
      "text/plain": [
       "<matplotlib.axes._subplots.AxesSubplot at 0x2394d5b00f0>"
      ]
     },
     "execution_count": 91,
     "metadata": {},
     "output_type": "execute_result"
    }
   ],
   "source": [
    "plt.show()\n",
    "df.lead_time.hist(figsize = (15, 20))"
   ]
  },
  {
   "cell_type": "markdown",
   "metadata": {},
   "source": [
    "d) **local_bo_qty is a skew right distribution. Most values are gathered in [0, 200]** (the mean is greater than the median.)"
   ]
  },
  {
   "cell_type": "code",
   "execution_count": 94,
   "metadata": {},
   "outputs": [
    {
     "data": {
      "image/png": "[encoded data removed]",
      "text/plain": [
       "<matplotlib.figure.Figure at 0x2394d6f59b0>"
      ]
     },
     "metadata": {},
     "output_type": "display_data"
    },
    {
     "data": {
      "text/plain": [
       "<matplotlib.axes._subplots.AxesSubplot at 0x2394d717668>"
      ]
     },
     "execution_count": 94,
     "metadata": {},
     "output_type": "execute_result"
    }
   ],
   "source": [
    "plt.show()\n",
    "df.local_bo_qty.hist(figsize = (15, 20), range = [0, 1000])"
   ]
  },
  {
   "cell_type": "markdown",
   "metadata": {},
   "source": [
    "e) **min_bank is a skew right distribution. Most values are gathered in [0, 3500]** (the mean is greater than the median.)"
   ]
  },
  {
   "cell_type": "code",
   "execution_count": 97,
   "metadata": {},
   "outputs": [
    {
     "data": {
      "image/png": "[encoded data removed]",
      "text/plain": [
       "<matplotlib.figure.Figure at 0x2396ab7cdd8>"
      ]
     },
     "metadata": {},
     "output_type": "display_data"
    },
    {
     "data": {
      "text/plain": [
       "<matplotlib.axes._subplots.AxesSubplot at 0x2396abb34a8>"
      ]
     },
     "execution_count": 97,
     "metadata": {},
     "output_type": "execute_result"
    }
   ],
   "source": [
    "plt.show()\n",
    "df.min_bank.hist(figsize = (15, 20), range = [0, 5000])"
   ]
  },
  {
   "cell_type": "markdown",
   "metadata": {},
   "source": [
    "f) **national_inv is a skew right distribution. Most values are gathered in [0, 10000]** (the mean is greater than the median.)"
   ]
  },
  {
   "cell_type": "code",
   "execution_count": 114,
   "metadata": {},
   "outputs": [
    {
     "data": {
      "image/png": "[encoded data removed]",
      "text/plain": [
       "<matplotlib.figure.Figure at 0x2397171f8d0>"
      ]
     },
     "metadata": {},
     "output_type": "display_data"
    },
    {
     "data": {
      "text/plain": [
       "<matplotlib.axes._subplots.AxesSubplot at 0x239717436d8>"
      ]
     },
     "execution_count": 114,
     "metadata": {},
     "output_type": "execute_result"
    }
   ],
   "source": [
    "plt.show()\n",
    "df.national_inv.hist(figsize = (15, 20), range = [0, 10000])"
   ]
  },
  {
   "cell_type": "markdown",
   "metadata": {},
   "source": [
    "g) **perf_6_month_avg is a skew left distribution. The range is [0, 1]** (the mean is less than the median.)"
   ]
  },
  {
   "cell_type": "code",
   "execution_count": 119,
   "metadata": {},
   "outputs": [
    {
     "data": {
      "image/png": "[encoded data removed]",
      "text/plain": [
       "<matplotlib.figure.Figure at 0x23972b6ce48>"
      ]
     },
     "metadata": {},
     "output_type": "display_data"
    },
    {
     "data": {
      "text/plain": [
       "<matplotlib.axes._subplots.AxesSubplot at 0x23972b93be0>"
      ]
     },
     "execution_count": 119,
     "metadata": {},
     "output_type": "execute_result"
    }
   ],
   "source": [
    "plt.show()\n",
    "df.perf_6_month_avg.hist(figsize = (15, 20))"
   ]
  },
  {
   "cell_type": "markdown",
   "metadata": {},
   "source": [
    "h) **pieces_past_due is a skew right distribution. Most values are gathered in [0, 400]** (the mean is greater than the median.)"
   ]
  },
  {
   "cell_type": "code",
   "execution_count": 122,
   "metadata": {},
   "outputs": [
    {
     "data": {
      "image/png": "[encoded data removed]",
      "text/plain": [
       "<matplotlib.figure.Figure at 0x23972ce7198>"
      ]
     },
     "metadata": {},
     "output_type": "display_data"
    },
    {
     "data": {
      "text/plain": [
       "<matplotlib.axes._subplots.AxesSubplot at 0x23972cfc208>"
      ]
     },
     "execution_count": 122,
     "metadata": {},
     "output_type": "execute_result"
    }
   ],
   "source": [
    "plt.show()\n",
    "df.pieces_past_due.hist(figsize = (15, 20), range = [0, 1000])"
   ]
  },
  {
   "cell_type": "markdown",
   "metadata": {},
   "source": [
    "i) **sales_1_month is a skew right distribution. Most values are gathered in [0, 2000]** (the mean is greater than the median.)"
   ]
  },
  {
   "cell_type": "code",
   "execution_count": 127,
   "metadata": {},
   "outputs": [
    {
     "data": {
      "image/png": "[encoded data removed]",
      "text/plain": [
       "<matplotlib.figure.Figure at 0x2397f4a42b0>"
      ]
     },
     "metadata": {},
     "output_type": "display_data"
    },
    {
     "data": {
      "text/plain": [
       "<matplotlib.axes._subplots.AxesSubplot at 0x2397f4dea58>"
      ]
     },
     "execution_count": 127,
     "metadata": {},
     "output_type": "execute_result"
    }
   ],
   "source": [
    "plt.show()\n",
    "df.sales_1_month.hist(figsize = (15, 20), range = [0, 2000])"
   ]
  },
  {
   "cell_type": "markdown",
   "metadata": {},
   "source": [
    "## 3.2 Summary Statistics"
   ]
  },
  {
   "cell_type": "markdown",
   "metadata": {},
   "source": [
    "Question 3.2: What are the summary statistics?"
   ]
  },
  {
   "cell_type": "markdown",
   "metadata": {},
   "source": [
    "Answer as follow:"
   ]
  },
  {
   "cell_type": "code",
   "execution_count": 50,
   "metadata": {},
   "outputs": [
    {
     "data": {
      "text/html": [
       "<div>\n",
       "<style>\n",
       "    .dataframe thead tr:only-child th {\n",
       "        text-align: right;\n",
       "    }\n",
       "\n",
       "    .dataframe thead th {\n",
       "        text-align: left;\n",
       "    }\n",
       "\n",
       "    .dataframe tbody tr th {\n",
       "        vertical-align: top;\n",
       "    }\n",
       "</style>\n",
       "<table border=\"1\" class=\"dataframe\">\n",
       "  <thead>\n",
       "    <tr style=\"text-align: right;\">\n",
       "      <th></th>\n",
       "      <th>national_inv</th>\n",
       "      <th>lead_time</th>\n",
       "      <th>in_transit_qty</th>\n",
       "      <th>forecast_3_month</th>\n",
       "      <th>forecast_6_month</th>\n",
       "      <th>forecast_9_month</th>\n",
       "      <th>sales_1_month</th>\n",
       "      <th>sales_3_month</th>\n",
       "      <th>sales_6_month</th>\n",
       "      <th>sales_9_month</th>\n",
       "      <th>min_bank</th>\n",
       "      <th>pieces_past_due</th>\n",
       "      <th>perf_6_month_avg</th>\n",
       "      <th>perf_12_month_avg</th>\n",
       "      <th>local_bo_qty</th>\n",
       "    </tr>\n",
       "  </thead>\n",
       "  <tbody>\n",
       "    <tr>\n",
       "      <th>count</th>\n",
       "      <td>1.687860e+06</td>\n",
       "      <td>1.687860e+06</td>\n",
       "      <td>1.687860e+06</td>\n",
       "      <td>1.687860e+06</td>\n",
       "      <td>1.687860e+06</td>\n",
       "      <td>1.687860e+06</td>\n",
       "      <td>1.687860e+06</td>\n",
       "      <td>1.687860e+06</td>\n",
       "      <td>1.687860e+06</td>\n",
       "      <td>1.687860e+06</td>\n",
       "      <td>1.687860e+06</td>\n",
       "      <td>1.687860e+06</td>\n",
       "      <td>1.687860e+06</td>\n",
       "      <td>1.687860e+06</td>\n",
       "      <td>1.687860e+06</td>\n",
       "    </tr>\n",
       "    <tr>\n",
       "      <th>mean</th>\n",
       "      <td>4.961118e+02</td>\n",
       "      <td>7.872267e+00</td>\n",
       "      <td>4.405202e+01</td>\n",
       "      <td>1.781193e+02</td>\n",
       "      <td>3.449867e+02</td>\n",
       "      <td>5.063644e+02</td>\n",
       "      <td>5.592607e+01</td>\n",
       "      <td>1.750259e+02</td>\n",
       "      <td>3.417288e+02</td>\n",
       "      <td>5.252697e+02</td>\n",
       "      <td>5.277230e+01</td>\n",
       "      <td>2.043724e+00</td>\n",
       "      <td>7.823812e-01</td>\n",
       "      <td>7.769763e-01</td>\n",
       "      <td>6.264507e-01</td>\n",
       "    </tr>\n",
       "    <tr>\n",
       "      <th>std</th>\n",
       "      <td>2.961523e+04</td>\n",
       "      <td>6.841885e+00</td>\n",
       "      <td>1.342742e+03</td>\n",
       "      <td>5.026553e+03</td>\n",
       "      <td>9.795152e+03</td>\n",
       "      <td>1.437892e+04</td>\n",
       "      <td>1.928196e+03</td>\n",
       "      <td>5.192378e+03</td>\n",
       "      <td>9.613167e+03</td>\n",
       "      <td>1.483861e+04</td>\n",
       "      <td>1.254983e+03</td>\n",
       "      <td>2.360165e+02</td>\n",
       "      <td>2.277419e-01</td>\n",
       "      <td>2.220005e-01</td>\n",
       "      <td>3.372224e+01</td>\n",
       "    </tr>\n",
       "    <tr>\n",
       "      <th>min</th>\n",
       "      <td>-2.725600e+04</td>\n",
       "      <td>0.000000e+00</td>\n",
       "      <td>0.000000e+00</td>\n",
       "      <td>0.000000e+00</td>\n",
       "      <td>0.000000e+00</td>\n",
       "      <td>0.000000e+00</td>\n",
       "      <td>0.000000e+00</td>\n",
       "      <td>0.000000e+00</td>\n",
       "      <td>0.000000e+00</td>\n",
       "      <td>0.000000e+00</td>\n",
       "      <td>0.000000e+00</td>\n",
       "      <td>0.000000e+00</td>\n",
       "      <td>0.000000e+00</td>\n",
       "      <td>0.000000e+00</td>\n",
       "      <td>0.000000e+00</td>\n",
       "    </tr>\n",
       "    <tr>\n",
       "      <th>25%</th>\n",
       "      <td>4.000000e+00</td>\n",
       "      <td>4.000000e+00</td>\n",
       "      <td>0.000000e+00</td>\n",
       "      <td>0.000000e+00</td>\n",
       "      <td>0.000000e+00</td>\n",
       "      <td>0.000000e+00</td>\n",
       "      <td>0.000000e+00</td>\n",
       "      <td>0.000000e+00</td>\n",
       "      <td>0.000000e+00</td>\n",
       "      <td>0.000000e+00</td>\n",
       "      <td>0.000000e+00</td>\n",
       "      <td>0.000000e+00</td>\n",
       "      <td>7.300000e-01</td>\n",
       "      <td>7.200000e-01</td>\n",
       "      <td>0.000000e+00</td>\n",
       "    </tr>\n",
       "    <tr>\n",
       "      <th>50%</th>\n",
       "      <td>1.500000e+01</td>\n",
       "      <td>8.000000e+00</td>\n",
       "      <td>0.000000e+00</td>\n",
       "      <td>0.000000e+00</td>\n",
       "      <td>0.000000e+00</td>\n",
       "      <td>0.000000e+00</td>\n",
       "      <td>0.000000e+00</td>\n",
       "      <td>1.000000e+00</td>\n",
       "      <td>2.000000e+00</td>\n",
       "      <td>4.000000e+00</td>\n",
       "      <td>0.000000e+00</td>\n",
       "      <td>0.000000e+00</td>\n",
       "      <td>8.200000e-01</td>\n",
       "      <td>8.100000e-01</td>\n",
       "      <td>0.000000e+00</td>\n",
       "    </tr>\n",
       "    <tr>\n",
       "      <th>75%</th>\n",
       "      <td>8.000000e+01</td>\n",
       "      <td>8.000000e+00</td>\n",
       "      <td>0.000000e+00</td>\n",
       "      <td>4.000000e+00</td>\n",
       "      <td>1.200000e+01</td>\n",
       "      <td>2.000000e+01</td>\n",
       "      <td>4.000000e+00</td>\n",
       "      <td>1.500000e+01</td>\n",
       "      <td>3.100000e+01</td>\n",
       "      <td>4.700000e+01</td>\n",
       "      <td>3.000000e+00</td>\n",
       "      <td>0.000000e+00</td>\n",
       "      <td>9.700000e-01</td>\n",
       "      <td>9.500000e-01</td>\n",
       "      <td>0.000000e+00</td>\n",
       "    </tr>\n",
       "    <tr>\n",
       "      <th>max</th>\n",
       "      <td>1.233440e+07</td>\n",
       "      <td>5.200000e+01</td>\n",
       "      <td>4.894080e+05</td>\n",
       "      <td>1.427612e+06</td>\n",
       "      <td>2.461360e+06</td>\n",
       "      <td>3.777304e+06</td>\n",
       "      <td>7.417740e+05</td>\n",
       "      <td>1.105478e+06</td>\n",
       "      <td>2.146625e+06</td>\n",
       "      <td>3.205172e+06</td>\n",
       "      <td>3.133190e+05</td>\n",
       "      <td>1.464960e+05</td>\n",
       "      <td>1.000000e+00</td>\n",
       "      <td>1.000000e+00</td>\n",
       "      <td>1.253000e+04</td>\n",
       "    </tr>\n",
       "  </tbody>\n",
       "</table>\n",
       "</div>"
      ],
      "text/plain": [
       "       national_inv     lead_time  in_transit_qty  forecast_3_month  \\\n",
       "count  1.687860e+06  1.687860e+06    1.687860e+06      1.687860e+06   \n",
       "mean   4.961118e+02  7.872267e+00    4.405202e+01      1.781193e+02   \n",
       "std    2.961523e+04  6.841885e+00    1.342742e+03      5.026553e+03   \n",
       "min   -2.725600e+04  0.000000e+00    0.000000e+00      0.000000e+00   \n",
       "25%    4.000000e+00  4.000000e+00    0.000000e+00      0.000000e+00   \n",
       "50%    1.500000e+01  8.000000e+00    0.000000e+00      0.000000e+00   \n",
       "75%    8.000000e+01  8.000000e+00    0.000000e+00      4.000000e+00   \n",
       "max    1.233440e+07  5.200000e+01    4.894080e+05      1.427612e+06   \n",
       "\n",
       "       forecast_6_month  forecast_9_month  sales_1_month  sales_3_month  \\\n",
       "count      1.687860e+06      1.687860e+06   1.687860e+06   1.687860e+06   \n",
       "mean       3.449867e+02      5.063644e+02   5.592607e+01   1.750259e+02   \n",
       "std        9.795152e+03      1.437892e+04   1.928196e+03   5.192378e+03   \n",
       "min        0.000000e+00      0.000000e+00   0.000000e+00   0.000000e+00   \n",
       "25%        0.000000e+00      0.000000e+00   0.000000e+00   0.000000e+00   \n",
       "50%        0.000000e+00      0.000000e+00   0.000000e+00   1.000000e+00   \n",
       "75%        1.200000e+01      2.000000e+01   4.000000e+00   1.500000e+01   \n",
       "max        2.461360e+06      3.777304e+06   7.417740e+05   1.105478e+06   \n",
       "\n",
       "       sales_6_month  sales_9_month      min_bank  pieces_past_due  \\\n",
       "count   1.687860e+06   1.687860e+06  1.687860e+06     1.687860e+06   \n",
       "mean    3.417288e+02   5.252697e+02  5.277230e+01     2.043724e+00   \n",
       "std     9.613167e+03   1.483861e+04  1.254983e+03     2.360165e+02   \n",
       "min     0.000000e+00   0.000000e+00  0.000000e+00     0.000000e+00   \n",
       "25%     0.000000e+00   0.000000e+00  0.000000e+00     0.000000e+00   \n",
       "50%     2.000000e+00   4.000000e+00  0.000000e+00     0.000000e+00   \n",
       "75%     3.100000e+01   4.700000e+01  3.000000e+00     0.000000e+00   \n",
       "max     2.146625e+06   3.205172e+06  3.133190e+05     1.464960e+05   \n",
       "\n",
       "       perf_6_month_avg  perf_12_month_avg  local_bo_qty  \n",
       "count      1.687860e+06       1.687860e+06  1.687860e+06  \n",
       "mean       7.823812e-01       7.769763e-01  6.264507e-01  \n",
       "std        2.277419e-01       2.220005e-01  3.372224e+01  \n",
       "min        0.000000e+00       0.000000e+00  0.000000e+00  \n",
       "25%        7.300000e-01       7.200000e-01  0.000000e+00  \n",
       "50%        8.200000e-01       8.100000e-01  0.000000e+00  \n",
       "75%        9.700000e-01       9.500000e-01  0.000000e+00  \n",
       "max        1.000000e+00       1.000000e+00  1.253000e+04  "
      ]
     },
     "execution_count": 50,
     "metadata": {},
     "output_type": "execute_result"
    }
   ],
   "source": [
    "df.describe()"
   ]
  },
  {
   "cell_type": "markdown",
   "metadata": {},
   "source": [
    "## 3.3 Anomolies / Outliers"
   ]
  },
  {
   "cell_type": "markdown",
   "metadata": {},
   "source": [
    "Question 3.3: Are there anomalies/outliers?"
   ]
  },
  {
   "cell_type": "markdown",
   "metadata": {},
   "source": [
    "Answer as follow:"
   ]
  },
  {
   "cell_type": "markdown",
   "metadata": {},
   "source": [
    "1. national_inv has most number of outliers and they are very discrete.\n",
    "2. (forecast_3_month, forecast_6_month, forecast_9_month), (sales_3_month, sales_6_month, sales_9_month) are two group which outliers are distributed more and more discrete.\n",
    "3. in_transit_qty, min_bank, pieces_past_due have a few number of outliers\n",
    "4. leadtime, perf_6_month_avg, perf_12_month_avg, local_bo_qty are gathered."
   ]
  },
  {
   "cell_type": "code",
   "execution_count": 52,
   "metadata": {},
   "outputs": [
    {
     "data": {
      "image/png": "[encoded data removed]",
      "text/plain": [
       "<matplotlib.figure.Figure at 0x2388e1d6cc0>"
      ]
     },
     "metadata": {},
     "output_type": "display_data"
    },
    {
     "data": {
      "text/plain": [
       "<matplotlib.axes._subplots.AxesSubplot at 0x2388dac3e48>"
      ]
     },
     "execution_count": 52,
     "metadata": {},
     "output_type": "execute_result"
    }
   ],
   "source": [
    "plt.show()\n",
    "df.plot(kind='box', figsize=(30, 50))"
   ]
  },
  {
   "cell_type": "markdown",
   "metadata": {},
   "source": [
    "# 4. Plot each clolumn"
   ]
  },
  {
   "cell_type": "code",
   "execution_count": 129,
   "metadata": {},
   "outputs": [
    {
     "data": {
      "image/png": "[encoded data removed]",
      "text/plain": [
       "<matplotlib.figure.Figure at 0x239824f9668>"
      ]
     },
     "metadata": {},
     "output_type": "display_data"
    },
    {
     "data": {
      "text/plain": [
       "array([[<matplotlib.axes._subplots.AxesSubplot object at 0x00000239837CB6D8>,\n",
       "        <matplotlib.axes._subplots.AxesSubplot object at 0x000002398424FB70>,\n",
       "        <matplotlib.axes._subplots.AxesSubplot object at 0x0000023983C4DB38>,\n",
       "        <matplotlib.axes._subplots.AxesSubplot object at 0x0000023983C6E9B0>],\n",
       "       [<matplotlib.axes._subplots.AxesSubplot object at 0x0000023983CC2AC8>,\n",
       "        <matplotlib.axes._subplots.AxesSubplot object at 0x0000023983CC2B00>,\n",
       "        <matplotlib.axes._subplots.AxesSubplot object at 0x0000023983D2F0B8>,\n",
       "        <matplotlib.axes._subplots.AxesSubplot object at 0x0000023983D68588>],\n",
       "       [<matplotlib.axes._subplots.AxesSubplot object at 0x0000023983DA3588>,\n",
       "        <matplotlib.axes._subplots.AxesSubplot object at 0x0000023983D3EE80>,\n",
       "        <matplotlib.axes._subplots.AxesSubplot object at 0x0000023983E04B38>,\n",
       "        <matplotlib.axes._subplots.AxesSubplot object at 0x0000023983E49048>],\n",
       "       [<matplotlib.axes._subplots.AxesSubplot object at 0x0000023983E7AF28>,\n",
       "        <matplotlib.axes._subplots.AxesSubplot object at 0x0000023983EAFE48>,\n",
       "        <matplotlib.axes._subplots.AxesSubplot object at 0x0000023983EE5748>,\n",
       "        <matplotlib.axes._subplots.AxesSubplot object at 0x0000023983F23748>]], dtype=object)"
      ]
     },
     "execution_count": 129,
     "metadata": {},
     "output_type": "execute_result"
    }
   ],
   "source": [
    "plt.show()\n",
    "df.hist(figsize = (15, 20))"
   ]
  },
  {
   "cell_type": "markdown",
   "metadata": {},
   "source": [
    "Summary about the plot"
   ]
  },
  {
   "cell_type": "markdown",
   "metadata": {},
   "source": [
    "1. Most columns have a very clusterd and representative range.\n",
    "2. Lead time, perf_6_month_avg, perf_12_month_avg cannot find a typical value to represent these columns"
   ]
  },
  {
   "cell_type": "markdown",
   "metadata": {
    "collapsed": true
   },
   "source": [
    "# 5. Columns Correlated"
   ]
  },
  {
   "cell_type": "markdown",
   "metadata": {},
   "source": [
    "Are any of the columns correlated? "
   ]
  },
  {
   "cell_type": "markdown",
   "metadata": {},
   "source": [
    "These 3 group are correlated columns:\n",
    "1. forecast_3_month, forecast_6_month, forecast_9_month\n",
    "2. sales_3_month, sales_6_month, sales_9_month\n",
    "3. perf_6_month_avg, perf_12_month_avg"
   ]
  },
  {
   "cell_type": "code",
   "execution_count": 55,
   "metadata": {},
   "outputs": [
    {
     "data": {
      "text/html": [
       "<div>\n",
       "<style>\n",
       "    .dataframe thead tr:only-child th {\n",
       "        text-align: right;\n",
       "    }\n",
       "\n",
       "    .dataframe thead th {\n",
       "        text-align: left;\n",
       "    }\n",
       "\n",
       "    .dataframe tbody tr th {\n",
       "        vertical-align: top;\n",
       "    }\n",
       "</style>\n",
       "<table border=\"1\" class=\"dataframe\">\n",
       "  <thead>\n",
       "    <tr style=\"text-align: right;\">\n",
       "      <th></th>\n",
       "      <th>national_inv</th>\n",
       "      <th>lead_time</th>\n",
       "      <th>in_transit_qty</th>\n",
       "      <th>forecast_3_month</th>\n",
       "      <th>forecast_6_month</th>\n",
       "      <th>forecast_9_month</th>\n",
       "      <th>sales_1_month</th>\n",
       "      <th>sales_3_month</th>\n",
       "      <th>sales_6_month</th>\n",
       "      <th>sales_9_month</th>\n",
       "      <th>min_bank</th>\n",
       "      <th>pieces_past_due</th>\n",
       "      <th>perf_6_month_avg</th>\n",
       "      <th>perf_12_month_avg</th>\n",
       "      <th>local_bo_qty</th>\n",
       "    </tr>\n",
       "  </thead>\n",
       "  <tbody>\n",
       "    <tr>\n",
       "      <th>national_inv</th>\n",
       "      <td>1.000000</td>\n",
       "      <td>0.003318</td>\n",
       "      <td>0.098238</td>\n",
       "      <td>0.078199</td>\n",
       "      <td>0.079744</td>\n",
       "      <td>0.078948</td>\n",
       "      <td>0.147449</td>\n",
       "      <td>0.192605</td>\n",
       "      <td>0.225067</td>\n",
       "      <td>0.239613</td>\n",
       "      <td>0.399969</td>\n",
       "      <td>0.030677</td>\n",
       "      <td>0.002869</td>\n",
       "      <td>0.002037</td>\n",
       "      <td>0.014887</td>\n",
       "    </tr>\n",
       "    <tr>\n",
       "      <th>lead_time</th>\n",
       "      <td>0.003318</td>\n",
       "      <td>1.000000</td>\n",
       "      <td>-0.006844</td>\n",
       "      <td>-0.008008</td>\n",
       "      <td>-0.008511</td>\n",
       "      <td>-0.008736</td>\n",
       "      <td>-0.005609</td>\n",
       "      <td>-0.006758</td>\n",
       "      <td>-0.007097</td>\n",
       "      <td>-0.007239</td>\n",
       "      <td>-0.007088</td>\n",
       "      <td>-0.001500</td>\n",
       "      <td>-0.009766</td>\n",
       "      <td>-0.007482</td>\n",
       "      <td>-0.001255</td>\n",
       "    </tr>\n",
       "    <tr>\n",
       "      <th>in_transit_qty</th>\n",
       "      <td>0.098238</td>\n",
       "      <td>-0.006844</td>\n",
       "      <td>1.000000</td>\n",
       "      <td>0.662648</td>\n",
       "      <td>0.687768</td>\n",
       "      <td>0.679152</td>\n",
       "      <td>0.619270</td>\n",
       "      <td>0.698417</td>\n",
       "      <td>0.689908</td>\n",
       "      <td>0.659372</td>\n",
       "      <td>0.749974</td>\n",
       "      <td>0.167460</td>\n",
       "      <td>0.004570</td>\n",
       "      <td>0.001611</td>\n",
       "      <td>0.066612</td>\n",
       "    </tr>\n",
       "    <tr>\n",
       "      <th>forecast_3_month</th>\n",
       "      <td>0.078199</td>\n",
       "      <td>-0.008008</td>\n",
       "      <td>0.662648</td>\n",
       "      <td>1.000000</td>\n",
       "      <td>0.990490</td>\n",
       "      <td>0.977337</td>\n",
       "      <td>0.684494</td>\n",
       "      <td>0.781178</td>\n",
       "      <td>0.835585</td>\n",
       "      <td>0.825539</td>\n",
       "      <td>0.725042</td>\n",
       "      <td>0.361214</td>\n",
       "      <td>0.006739</td>\n",
       "      <td>0.003357</td>\n",
       "      <td>0.039419</td>\n",
       "    </tr>\n",
       "    <tr>\n",
       "      <th>forecast_6_month</th>\n",
       "      <td>0.079744</td>\n",
       "      <td>-0.008511</td>\n",
       "      <td>0.687768</td>\n",
       "      <td>0.990490</td>\n",
       "      <td>1.000000</td>\n",
       "      <td>0.994945</td>\n",
       "      <td>0.701770</td>\n",
       "      <td>0.808755</td>\n",
       "      <td>0.868099</td>\n",
       "      <td>0.858253</td>\n",
       "      <td>0.738553</td>\n",
       "      <td>0.363147</td>\n",
       "      <td>0.007503</td>\n",
       "      <td>0.003717</td>\n",
       "      <td>0.039724</td>\n",
       "    </tr>\n",
       "    <tr>\n",
       "      <th>forecast_9_month</th>\n",
       "      <td>0.078948</td>\n",
       "      <td>-0.008736</td>\n",
       "      <td>0.679152</td>\n",
       "      <td>0.977337</td>\n",
       "      <td>0.994945</td>\n",
       "      <td>1.000000</td>\n",
       "      <td>0.716367</td>\n",
       "      <td>0.829911</td>\n",
       "      <td>0.891884</td>\n",
       "      <td>0.881894</td>\n",
       "      <td>0.735891</td>\n",
       "      <td>0.366001</td>\n",
       "      <td>0.007786</td>\n",
       "      <td>0.003768</td>\n",
       "      <td>0.039732</td>\n",
       "    </tr>\n",
       "    <tr>\n",
       "      <th>sales_1_month</th>\n",
       "      <td>0.147449</td>\n",
       "      <td>-0.005609</td>\n",
       "      <td>0.619270</td>\n",
       "      <td>0.684494</td>\n",
       "      <td>0.701770</td>\n",
       "      <td>0.716367</td>\n",
       "      <td>1.000000</td>\n",
       "      <td>0.918548</td>\n",
       "      <td>0.867479</td>\n",
       "      <td>0.815959</td>\n",
       "      <td>0.756137</td>\n",
       "      <td>0.249526</td>\n",
       "      <td>0.006323</td>\n",
       "      <td>0.002058</td>\n",
       "      <td>0.066188</td>\n",
       "    </tr>\n",
       "    <tr>\n",
       "      <th>sales_3_month</th>\n",
       "      <td>0.192605</td>\n",
       "      <td>-0.006758</td>\n",
       "      <td>0.698417</td>\n",
       "      <td>0.781178</td>\n",
       "      <td>0.808755</td>\n",
       "      <td>0.829911</td>\n",
       "      <td>0.918548</td>\n",
       "      <td>1.000000</td>\n",
       "      <td>0.975594</td>\n",
       "      <td>0.929491</td>\n",
       "      <td>0.856017</td>\n",
       "      <td>0.304565</td>\n",
       "      <td>0.006938</td>\n",
       "      <td>0.002091</td>\n",
       "      <td>0.071030</td>\n",
       "    </tr>\n",
       "    <tr>\n",
       "      <th>sales_6_month</th>\n",
       "      <td>0.225067</td>\n",
       "      <td>-0.007097</td>\n",
       "      <td>0.689908</td>\n",
       "      <td>0.835585</td>\n",
       "      <td>0.868099</td>\n",
       "      <td>0.891884</td>\n",
       "      <td>0.867479</td>\n",
       "      <td>0.975594</td>\n",
       "      <td>1.000000</td>\n",
       "      <td>0.971833</td>\n",
       "      <td>0.837110</td>\n",
       "      <td>0.323552</td>\n",
       "      <td>0.007104</td>\n",
       "      <td>0.001946</td>\n",
       "      <td>0.057765</td>\n",
       "    </tr>\n",
       "    <tr>\n",
       "      <th>sales_9_month</th>\n",
       "      <td>0.239613</td>\n",
       "      <td>-0.007239</td>\n",
       "      <td>0.659372</td>\n",
       "      <td>0.825539</td>\n",
       "      <td>0.858253</td>\n",
       "      <td>0.881894</td>\n",
       "      <td>0.815959</td>\n",
       "      <td>0.929491</td>\n",
       "      <td>0.971833</td>\n",
       "      <td>1.000000</td>\n",
       "      <td>0.800890</td>\n",
       "      <td>0.317692</td>\n",
       "      <td>0.007427</td>\n",
       "      <td>0.002363</td>\n",
       "      <td>0.048880</td>\n",
       "    </tr>\n",
       "    <tr>\n",
       "      <th>min_bank</th>\n",
       "      <td>0.399969</td>\n",
       "      <td>-0.007088</td>\n",
       "      <td>0.749974</td>\n",
       "      <td>0.725042</td>\n",
       "      <td>0.738553</td>\n",
       "      <td>0.735891</td>\n",
       "      <td>0.756137</td>\n",
       "      <td>0.856017</td>\n",
       "      <td>0.837110</td>\n",
       "      <td>0.800890</td>\n",
       "      <td>1.000000</td>\n",
       "      <td>0.262136</td>\n",
       "      <td>0.010064</td>\n",
       "      <td>0.005940</td>\n",
       "      <td>0.076678</td>\n",
       "    </tr>\n",
       "    <tr>\n",
       "      <th>pieces_past_due</th>\n",
       "      <td>0.030677</td>\n",
       "      <td>-0.001500</td>\n",
       "      <td>0.167460</td>\n",
       "      <td>0.361214</td>\n",
       "      <td>0.363147</td>\n",
       "      <td>0.366001</td>\n",
       "      <td>0.249526</td>\n",
       "      <td>0.304565</td>\n",
       "      <td>0.323552</td>\n",
       "      <td>0.317692</td>\n",
       "      <td>0.262136</td>\n",
       "      <td>1.000000</td>\n",
       "      <td>-0.004668</td>\n",
       "      <td>-0.004744</td>\n",
       "      <td>0.010400</td>\n",
       "    </tr>\n",
       "    <tr>\n",
       "      <th>perf_6_month_avg</th>\n",
       "      <td>0.002869</td>\n",
       "      <td>-0.009766</td>\n",
       "      <td>0.004570</td>\n",
       "      <td>0.006739</td>\n",
       "      <td>0.007503</td>\n",
       "      <td>0.007786</td>\n",
       "      <td>0.006323</td>\n",
       "      <td>0.006938</td>\n",
       "      <td>0.007104</td>\n",
       "      <td>0.007427</td>\n",
       "      <td>0.010064</td>\n",
       "      <td>-0.004668</td>\n",
       "      <td>1.000000</td>\n",
       "      <td>0.931431</td>\n",
       "      <td>0.002235</td>\n",
       "    </tr>\n",
       "    <tr>\n",
       "      <th>perf_12_month_avg</th>\n",
       "      <td>0.002037</td>\n",
       "      <td>-0.007482</td>\n",
       "      <td>0.001611</td>\n",
       "      <td>0.003357</td>\n",
       "      <td>0.003717</td>\n",
       "      <td>0.003768</td>\n",
       "      <td>0.002058</td>\n",
       "      <td>0.002091</td>\n",
       "      <td>0.001946</td>\n",
       "      <td>0.002363</td>\n",
       "      <td>0.005940</td>\n",
       "      <td>-0.004744</td>\n",
       "      <td>0.931431</td>\n",
       "      <td>1.000000</td>\n",
       "      <td>0.001651</td>\n",
       "    </tr>\n",
       "    <tr>\n",
       "      <th>local_bo_qty</th>\n",
       "      <td>0.014887</td>\n",
       "      <td>-0.001255</td>\n",
       "      <td>0.066612</td>\n",
       "      <td>0.039419</td>\n",
       "      <td>0.039724</td>\n",
       "      <td>0.039732</td>\n",
       "      <td>0.066188</td>\n",
       "      <td>0.071030</td>\n",
       "      <td>0.057765</td>\n",
       "      <td>0.048880</td>\n",
       "      <td>0.076678</td>\n",
       "      <td>0.010400</td>\n",
       "      <td>0.002235</td>\n",
       "      <td>0.001651</td>\n",
       "      <td>1.000000</td>\n",
       "    </tr>\n",
       "  </tbody>\n",
       "</table>\n",
       "</div>"
      ],
      "text/plain": [
       "                   national_inv  lead_time  in_transit_qty  forecast_3_month  \\\n",
       "national_inv           1.000000   0.003318        0.098238          0.078199   \n",
       "lead_time              0.003318   1.000000       -0.006844         -0.008008   \n",
       "in_transit_qty         0.098238  -0.006844        1.000000          0.662648   \n",
       "forecast_3_month       0.078199  -0.008008        0.662648          1.000000   \n",
       "forecast_6_month       0.079744  -0.008511        0.687768          0.990490   \n",
       "forecast_9_month       0.078948  -0.008736        0.679152          0.977337   \n",
       "sales_1_month          0.147449  -0.005609        0.619270          0.684494   \n",
       "sales_3_month          0.192605  -0.006758        0.698417          0.781178   \n",
       "sales_6_month          0.225067  -0.007097        0.689908          0.835585   \n",
       "sales_9_month          0.239613  -0.007239        0.659372          0.825539   \n",
       "min_bank               0.399969  -0.007088        0.749974          0.725042   \n",
       "pieces_past_due        0.030677  -0.001500        0.167460          0.361214   \n",
       "perf_6_month_avg       0.002869  -0.009766        0.004570          0.006739   \n",
       "perf_12_month_avg      0.002037  -0.007482        0.001611          0.003357   \n",
       "local_bo_qty           0.014887  -0.001255        0.066612          0.039419   \n",
       "\n",
       "                   forecast_6_month  forecast_9_month  sales_1_month  \\\n",
       "national_inv               0.079744          0.078948       0.147449   \n",
       "lead_time                 -0.008511         -0.008736      -0.005609   \n",
       "in_transit_qty             0.687768          0.679152       0.619270   \n",
       "forecast_3_month           0.990490          0.977337       0.684494   \n",
       "forecast_6_month           1.000000          0.994945       0.701770   \n",
       "forecast_9_month           0.994945          1.000000       0.716367   \n",
       "sales_1_month              0.701770          0.716367       1.000000   \n",
       "sales_3_month              0.808755          0.829911       0.918548   \n",
       "sales_6_month              0.868099          0.891884       0.867479   \n",
       "sales_9_month              0.858253          0.881894       0.815959   \n",
       "min_bank                   0.738553          0.735891       0.756137   \n",
       "pieces_past_due            0.363147          0.366001       0.249526   \n",
       "perf_6_month_avg           0.007503          0.007786       0.006323   \n",
       "perf_12_month_avg          0.003717          0.003768       0.002058   \n",
       "local_bo_qty               0.039724          0.039732       0.066188   \n",
       "\n",
       "                   sales_3_month  sales_6_month  sales_9_month  min_bank  \\\n",
       "national_inv            0.192605       0.225067       0.239613  0.399969   \n",
       "lead_time              -0.006758      -0.007097      -0.007239 -0.007088   \n",
       "in_transit_qty          0.698417       0.689908       0.659372  0.749974   \n",
       "forecast_3_month        0.781178       0.835585       0.825539  0.725042   \n",
       "forecast_6_month        0.808755       0.868099       0.858253  0.738553   \n",
       "forecast_9_month        0.829911       0.891884       0.881894  0.735891   \n",
       "sales_1_month           0.918548       0.867479       0.815959  0.756137   \n",
       "sales_3_month           1.000000       0.975594       0.929491  0.856017   \n",
       "sales_6_month           0.975594       1.000000       0.971833  0.837110   \n",
       "sales_9_month           0.929491       0.971833       1.000000  0.800890   \n",
       "min_bank                0.856017       0.837110       0.800890  1.000000   \n",
       "pieces_past_due         0.304565       0.323552       0.317692  0.262136   \n",
       "perf_6_month_avg        0.006938       0.007104       0.007427  0.010064   \n",
       "perf_12_month_avg       0.002091       0.001946       0.002363  0.005940   \n",
       "local_bo_qty            0.071030       0.057765       0.048880  0.076678   \n",
       "\n",
       "                   pieces_past_due  perf_6_month_avg  perf_12_month_avg  \\\n",
       "national_inv              0.030677          0.002869           0.002037   \n",
       "lead_time                -0.001500         -0.009766          -0.007482   \n",
       "in_transit_qty            0.167460          0.004570           0.001611   \n",
       "forecast_3_month          0.361214          0.006739           0.003357   \n",
       "forecast_6_month          0.363147          0.007503           0.003717   \n",
       "forecast_9_month          0.366001          0.007786           0.003768   \n",
       "sales_1_month             0.249526          0.006323           0.002058   \n",
       "sales_3_month             0.304565          0.006938           0.002091   \n",
       "sales_6_month             0.323552          0.007104           0.001946   \n",
       "sales_9_month             0.317692          0.007427           0.002363   \n",
       "min_bank                  0.262136          0.010064           0.005940   \n",
       "pieces_past_due           1.000000         -0.004668          -0.004744   \n",
       "perf_6_month_avg         -0.004668          1.000000           0.931431   \n",
       "perf_12_month_avg        -0.004744          0.931431           1.000000   \n",
       "local_bo_qty              0.010400          0.002235           0.001651   \n",
       "\n",
       "                   local_bo_qty  \n",
       "national_inv           0.014887  \n",
       "lead_time             -0.001255  \n",
       "in_transit_qty         0.066612  \n",
       "forecast_3_month       0.039419  \n",
       "forecast_6_month       0.039724  \n",
       "forecast_9_month       0.039732  \n",
       "sales_1_month          0.066188  \n",
       "sales_3_month          0.071030  \n",
       "sales_6_month          0.057765  \n",
       "sales_9_month          0.048880  \n",
       "min_bank               0.076678  \n",
       "pieces_past_due        0.010400  \n",
       "perf_6_month_avg       0.002235  \n",
       "perf_12_month_avg      0.001651  \n",
       "local_bo_qty           1.000000  "
      ]
     },
     "execution_count": 55,
     "metadata": {},
     "output_type": "execute_result"
    }
   ],
   "source": [
    "df.corr()"
   ]
  },
  {
   "cell_type": "code",
   "execution_count": 131,
   "metadata": {},
   "outputs": [
    {
     "data": {
      "image/png": "[encoded data removed]",
      "text/plain": [
       "<matplotlib.figure.Figure at 0x239841b1940>"
      ]
     },
     "metadata": {},
     "output_type": "display_data"
    },
    {
     "data": {
      "text/plain": [
       "<matplotlib.image.AxesImage at 0x2398469b780>"
      ]
     },
     "execution_count": 131,
     "metadata": {},
     "output_type": "execute_result"
    }
   ],
   "source": [
    "plt.show()\n",
    "plt.matshow(df.corr())"
   ]
  },
  {
   "cell_type": "markdown",
   "metadata": {},
   "source": [
    "# 6. Summary of EDA"
   ]
  },
  {
   "cell_type": "markdown",
   "metadata": {},
   "source": [
    "1. Overall: \n",
    "1) This dataset is a very big dataset which have 1687861 rows and 23 columns. It means that I need build a large model for this dataset.\n",
    "2) This dataset has many categorical variables which I need to convert it to numerical variables.\n",
    "3) The target variable is categorical. So I should choose classification mode to analyse it.\n",
    "2. Model recommendation:\n",
    "1) decision tree\n",
    "2) random forest\n",
    "3. Data cleaning:\n",
    "1) This dataset has some missing value: lead_time has NaN; perf_6_month_avg and perf_6_month_avg have -99 as missing value. I use mean to replace the missing value because they are skewed distribution which use mean as typical value.\n",
    "2) This dataset doesn't have inapproprate values\n",
    "4. Data distribution:\n",
    "Most columns are skewd distribution but have a very clusterd and representative range.\n",
    "1) national_inv has te most number of outliers and are most discrete.\n",
    "2) (forecast_3_month, forecast_6_month, forecast_9_month), (sales_3_month, sales_6_month, sales_9_month) are two group which are more and more discrete.\n",
    "3) in_transit_qty, min_bank, pieces_past_due have a few number of outliers and not very discrete.\n",
    "4) leadtime, perf_6_month_avg, perf_12_month_avg, local_bo_qty are gathered.\n",
    "5) Lead time, perf_6_month_avg, perf_12_month_avg cannot find a typical value to represent these columns\n",
    "5. Column correlated: \n",
    "(forecast_3_month, forecast_6_month, forecast_9_month), (sales_3_month, sales_6_month sales_9_month), (perf_6_month_avg, perf_12_month_avg) are column correlated."
   ]
  },
  {
   "cell_type": "markdown",
   "metadata": {},
   "source": [
    "# _Part B_"
   ]
  },
  {
   "cell_type": "markdown",
   "metadata": {},
   "source": [
    "# a. A clear description of the question being asked."
   ]
  },
  {
   "cell_type": "markdown",
   "metadata": {},
   "source": [
    "Can you predict product backorders?\n",
    "In other words, can you predict backorder risk for products based on historical data? "
   ]
  },
  {
   "cell_type": "markdown",
   "metadata": {},
   "source": [
    "# b.  Background research of related work. "
   ]
  },
  {
   "cell_type": "markdown",
   "metadata": {},
   "source": [
    "1. What is a backorder?\n",
    "Backorders are products that are temporarily out of stock, but will ship to customers when it is available. \n",
    "In other word, a backorder generally indicates that customer demand for a product or service exceeds a company's capacity to supply it.\n",
    "2. Backorder is a big problem\n",
    "1)\tHuge number of sales orders and different suppliers where the out of stock items from increase complexity to the workload.\n",
    "2)\tCustomers may not have the patience to wait for items. It may lead to lost sales and low customer satisfaction.\n",
    "3. Way to handle it:\n",
    "In order to monitor backorder, we can use machine learning to identify products at risk of backorders. Sales person can prepare for these products in advance.\n",
    "1) Naive bayes\n",
    "2) Support vector machine\n",
    "3) Decision tree\n",
    "4) Random forest\n",
    "5) K nearest neignbours"
   ]
  },
  {
   "cell_type": "markdown",
   "metadata": {},
   "source": [
    "# c. Data sources"
   ]
  },
  {
   "cell_type": "markdown",
   "metadata": {},
   "source": [
    "Can you predict product backorders?\n",
    "https://www.kaggle.com/tiredgeek/predict-bo-trial\n",
    "This dataset includes training data and test data.\n",
    "Training dataset contains the descriptive data for the 8 weeks prior to the week we are trying to predict. These data was recorded weekly.\n",
    "Columns:\n",
    "1. Predictor variables:\n",
    "sku - Random ID for the product\n",
    "national_inv - Current inventory level for the part\n",
    "lead_time - Transit time for product (if available)\n",
    "in_transit_qty - Amount of product in transit from source\n",
    "forecast_3_month - Forecast sales for the next 3 months\n",
    "forecast_6_month - Forecast sales for the next 6 months\n",
    "forecast_9_month - Forecast sales for the next 9 months\n",
    "sales_1_month - Sales quantity for the prior 1 month time period \n",
    "sales_3_month - Sales quantity for the prior 3 month time period \n",
    "sales_6_month - Sales quantity for the prior 6 month time period \n",
    "sales_9_month - Sales quantity for the prior 9 month time period \n",
    "min_bank - Minimum recommend amount to stock\n",
    "potential_issue - Source issue for part identified\n",
    "pieces_past_due - Parts overdue from source\n",
    "perf_6_month_avg - Source performance for prior 6 month period \n",
    "perf_12_month_avg - Source performance for prior 12 month period \n",
    "local_bo_qty - Amount of stock orders overdue\n",
    "deck_risk - Part risk flag\n",
    "oe_constraint - Part risk flag\n",
    "ppap_risk - Part risk flag\n",
    "stop_auto_buy - Part risk flag\n",
    "rev_stop - Part risk flag\n",
    "2. Target variable:\n",
    "went_on_backorder - Product actually went on backorder"
   ]
  },
  {
   "cell_type": "markdown",
   "metadata": {},
   "source": [
    "## Converting categorical data into numbers "
   ]
  },
  {
   "cell_type": "code",
   "execution_count": 57,
   "metadata": {},
   "outputs": [
    {
     "name": "stdout",
     "output_type": "stream",
     "text": [
      "<class 'pandas.core.frame.DataFrame'>\n",
      "Int64Index: 1687860 entries, 0 to 1687859\n",
      "Data columns (total 29 columns):\n",
      "sku                    1687860 non-null object\n",
      "national_inv           1687860 non-null float64\n",
      "lead_time              1687860 non-null float64\n",
      "in_transit_qty         1687860 non-null float64\n",
      "forecast_3_month       1687860 non-null float64\n",
      "forecast_6_month       1687860 non-null float64\n",
      "forecast_9_month       1687860 non-null float64\n",
      "sales_1_month          1687860 non-null float64\n",
      "sales_3_month          1687860 non-null float64\n",
      "sales_6_month          1687860 non-null float64\n",
      "sales_9_month          1687860 non-null float64\n",
      "min_bank               1687860 non-null float64\n",
      "pieces_past_due        1687860 non-null float64\n",
      "perf_6_month_avg       1687860 non-null float64\n",
      "perf_12_month_avg      1687860 non-null float64\n",
      "local_bo_qty           1687860 non-null float64\n",
      "went_on_backorder      1687860 non-null object\n",
      "potential_issue_No     1687860 non-null uint8\n",
      "potential_issue_Yes    1687860 non-null uint8\n",
      "deck_risk_No           1687860 non-null uint8\n",
      "deck_risk_Yes          1687860 non-null uint8\n",
      "oe_constraint_No       1687860 non-null uint8\n",
      "oe_constraint_Yes      1687860 non-null uint8\n",
      "ppap_risk_No           1687860 non-null uint8\n",
      "ppap_risk_Yes          1687860 non-null uint8\n",
      "stop_auto_buy_No       1687860 non-null uint8\n",
      "stop_auto_buy_Yes      1687860 non-null uint8\n",
      "rev_stop_No            1687860 non-null uint8\n",
      "rev_stop_Yes           1687860 non-null uint8\n",
      "dtypes: float64(15), object(2), uint8(12)\n",
      "memory usage: 251.1+ MB\n"
     ]
    }
   ],
   "source": [
    "df_with_dummies = pd.get_dummies(df, columns = ['potential_issue', 'deck_risk', 'oe_constraint', 'ppap_risk', 'stop_auto_buy', 'rev_stop'])\n",
    "df_with_dummies.info()"
   ]
  },
  {
   "cell_type": "markdown",
   "metadata": {},
   "source": [
    "## Transform data for model"
   ]
  },
  {
   "cell_type": "code",
   "execution_count": 58,
   "metadata": {},
   "outputs": [
    {
     "data": {
      "text/plain": [
       "(1687860, 29)"
      ]
     },
     "execution_count": 58,
     "metadata": {},
     "output_type": "execute_result"
    }
   ],
   "source": [
    "df_with_dummies.shape"
   ]
  },
  {
   "cell_type": "code",
   "execution_count": 59,
   "metadata": {
    "collapsed": true
   },
   "outputs": [],
   "source": [
    "x_transform = df_with_dummies.drop(['sku', 'went_on_backorder'], axis=1)"
   ]
  },
  {
   "cell_type": "code",
   "execution_count": 60,
   "metadata": {},
   "outputs": [
    {
     "data": {
      "text/html": [
       "<div>\n",
       "<style>\n",
       "    .dataframe thead tr:only-child th {\n",
       "        text-align: right;\n",
       "    }\n",
       "\n",
       "    .dataframe thead th {\n",
       "        text-align: left;\n",
       "    }\n",
       "\n",
       "    .dataframe tbody tr th {\n",
       "        vertical-align: top;\n",
       "    }\n",
       "</style>\n",
       "<table border=\"1\" class=\"dataframe\">\n",
       "  <thead>\n",
       "    <tr style=\"text-align: right;\">\n",
       "      <th></th>\n",
       "      <th>national_inv</th>\n",
       "      <th>lead_time</th>\n",
       "      <th>in_transit_qty</th>\n",
       "      <th>forecast_3_month</th>\n",
       "      <th>forecast_6_month</th>\n",
       "      <th>forecast_9_month</th>\n",
       "      <th>sales_1_month</th>\n",
       "      <th>sales_3_month</th>\n",
       "      <th>sales_6_month</th>\n",
       "      <th>sales_9_month</th>\n",
       "      <th>...</th>\n",
       "      <th>deck_risk_No</th>\n",
       "      <th>deck_risk_Yes</th>\n",
       "      <th>oe_constraint_No</th>\n",
       "      <th>oe_constraint_Yes</th>\n",
       "      <th>ppap_risk_No</th>\n",
       "      <th>ppap_risk_Yes</th>\n",
       "      <th>stop_auto_buy_No</th>\n",
       "      <th>stop_auto_buy_Yes</th>\n",
       "      <th>rev_stop_No</th>\n",
       "      <th>rev_stop_Yes</th>\n",
       "    </tr>\n",
       "  </thead>\n",
       "  <tbody>\n",
       "    <tr>\n",
       "      <th>0</th>\n",
       "      <td>0.0</td>\n",
       "      <td>7.872267</td>\n",
       "      <td>0.0</td>\n",
       "      <td>0.0</td>\n",
       "      <td>0.0</td>\n",
       "      <td>0.0</td>\n",
       "      <td>0.0</td>\n",
       "      <td>0.0</td>\n",
       "      <td>0.0</td>\n",
       "      <td>0.0</td>\n",
       "      <td>...</td>\n",
       "      <td>1</td>\n",
       "      <td>0</td>\n",
       "      <td>1</td>\n",
       "      <td>0</td>\n",
       "      <td>1</td>\n",
       "      <td>0</td>\n",
       "      <td>0</td>\n",
       "      <td>1</td>\n",
       "      <td>1</td>\n",
       "      <td>0</td>\n",
       "    </tr>\n",
       "    <tr>\n",
       "      <th>1</th>\n",
       "      <td>2.0</td>\n",
       "      <td>9.000000</td>\n",
       "      <td>0.0</td>\n",
       "      <td>0.0</td>\n",
       "      <td>0.0</td>\n",
       "      <td>0.0</td>\n",
       "      <td>0.0</td>\n",
       "      <td>0.0</td>\n",
       "      <td>0.0</td>\n",
       "      <td>0.0</td>\n",
       "      <td>...</td>\n",
       "      <td>1</td>\n",
       "      <td>0</td>\n",
       "      <td>1</td>\n",
       "      <td>0</td>\n",
       "      <td>1</td>\n",
       "      <td>0</td>\n",
       "      <td>0</td>\n",
       "      <td>1</td>\n",
       "      <td>1</td>\n",
       "      <td>0</td>\n",
       "    </tr>\n",
       "    <tr>\n",
       "      <th>2</th>\n",
       "      <td>2.0</td>\n",
       "      <td>7.872267</td>\n",
       "      <td>0.0</td>\n",
       "      <td>0.0</td>\n",
       "      <td>0.0</td>\n",
       "      <td>0.0</td>\n",
       "      <td>0.0</td>\n",
       "      <td>0.0</td>\n",
       "      <td>0.0</td>\n",
       "      <td>0.0</td>\n",
       "      <td>...</td>\n",
       "      <td>0</td>\n",
       "      <td>1</td>\n",
       "      <td>1</td>\n",
       "      <td>0</td>\n",
       "      <td>1</td>\n",
       "      <td>0</td>\n",
       "      <td>0</td>\n",
       "      <td>1</td>\n",
       "      <td>1</td>\n",
       "      <td>0</td>\n",
       "    </tr>\n",
       "    <tr>\n",
       "      <th>3</th>\n",
       "      <td>7.0</td>\n",
       "      <td>8.000000</td>\n",
       "      <td>0.0</td>\n",
       "      <td>0.0</td>\n",
       "      <td>0.0</td>\n",
       "      <td>0.0</td>\n",
       "      <td>0.0</td>\n",
       "      <td>0.0</td>\n",
       "      <td>0.0</td>\n",
       "      <td>0.0</td>\n",
       "      <td>...</td>\n",
       "      <td>1</td>\n",
       "      <td>0</td>\n",
       "      <td>1</td>\n",
       "      <td>0</td>\n",
       "      <td>1</td>\n",
       "      <td>0</td>\n",
       "      <td>0</td>\n",
       "      <td>1</td>\n",
       "      <td>1</td>\n",
       "      <td>0</td>\n",
       "    </tr>\n",
       "    <tr>\n",
       "      <th>4</th>\n",
       "      <td>8.0</td>\n",
       "      <td>7.872267</td>\n",
       "      <td>0.0</td>\n",
       "      <td>0.0</td>\n",
       "      <td>0.0</td>\n",
       "      <td>0.0</td>\n",
       "      <td>0.0</td>\n",
       "      <td>0.0</td>\n",
       "      <td>0.0</td>\n",
       "      <td>4.0</td>\n",
       "      <td>...</td>\n",
       "      <td>0</td>\n",
       "      <td>1</td>\n",
       "      <td>1</td>\n",
       "      <td>0</td>\n",
       "      <td>1</td>\n",
       "      <td>0</td>\n",
       "      <td>0</td>\n",
       "      <td>1</td>\n",
       "      <td>1</td>\n",
       "      <td>0</td>\n",
       "    </tr>\n",
       "  </tbody>\n",
       "</table>\n",
       "<p>5 rows × 27 columns</p>\n",
       "</div>"
      ],
      "text/plain": [
       "   national_inv  lead_time  in_transit_qty  forecast_3_month  \\\n",
       "0           0.0   7.872267             0.0               0.0   \n",
       "1           2.0   9.000000             0.0               0.0   \n",
       "2           2.0   7.872267             0.0               0.0   \n",
       "3           7.0   8.000000             0.0               0.0   \n",
       "4           8.0   7.872267             0.0               0.0   \n",
       "\n",
       "   forecast_6_month  forecast_9_month  sales_1_month  sales_3_month  \\\n",
       "0               0.0               0.0            0.0            0.0   \n",
       "1               0.0               0.0            0.0            0.0   \n",
       "2               0.0               0.0            0.0            0.0   \n",
       "3               0.0               0.0            0.0            0.0   \n",
       "4               0.0               0.0            0.0            0.0   \n",
       "\n",
       "   sales_6_month  sales_9_month      ...       deck_risk_No  deck_risk_Yes  \\\n",
       "0            0.0            0.0      ...                  1              0   \n",
       "1            0.0            0.0      ...                  1              0   \n",
       "2            0.0            0.0      ...                  0              1   \n",
       "3            0.0            0.0      ...                  1              0   \n",
       "4            0.0            4.0      ...                  0              1   \n",
       "\n",
       "   oe_constraint_No  oe_constraint_Yes  ppap_risk_No  ppap_risk_Yes  \\\n",
       "0                 1                  0             1              0   \n",
       "1                 1                  0             1              0   \n",
       "2                 1                  0             1              0   \n",
       "3                 1                  0             1              0   \n",
       "4                 1                  0             1              0   \n",
       "\n",
       "   stop_auto_buy_No  stop_auto_buy_Yes  rev_stop_No  rev_stop_Yes  \n",
       "0                 0                  1            1             0  \n",
       "1                 0                  1            1             0  \n",
       "2                 0                  1            1             0  \n",
       "3                 0                  1            1             0  \n",
       "4                 0                  1            1             0  \n",
       "\n",
       "[5 rows x 27 columns]"
      ]
     },
     "execution_count": 60,
     "metadata": {},
     "output_type": "execute_result"
    }
   ],
   "source": [
    "x_transform.head()"
   ]
  },
  {
   "cell_type": "code",
   "execution_count": 61,
   "metadata": {
    "collapsed": true
   },
   "outputs": [],
   "source": [
    "lb = pre.LabelBinarizer()\n",
    "y_transform = lb.fit_transform(df_with_dummies.went_on_backorder)"
   ]
  },
  {
   "cell_type": "markdown",
   "metadata": {},
   "source": [
    "## Sampling into train data and test data"
   ]
  },
  {
   "cell_type": "code",
   "execution_count": 62,
   "metadata": {
    "collapsed": true
   },
   "outputs": [],
   "source": [
    "# split dataset into inputs and outputs\n",
    "values = df_with_dummies.values\n",
    "x = x_transform\n",
    "y = y_transform.ravel()\n",
    "x = x.astype('int') \n",
    "y = y.astype('int') \n",
    "x_train, x_test, y_train, y_test = train_test_split(x, y, test_size=0.2, random_state=6)"
   ]
  },
  {
   "cell_type": "markdown",
   "metadata": {},
   "source": [
    "# d. What algorithms are being used and code sources."
   ]
  },
  {
   "cell_type": "markdown",
   "metadata": {},
   "source": [
    "## 1) decision tree"
   ]
  },
  {
   "cell_type": "code",
   "execution_count": 63,
   "metadata": {},
   "outputs": [
    {
     "data": {
      "text/plain": [
       "DecisionTreeClassifier(class_weight=None, criterion='gini', max_depth=None,\n",
       "            max_features=None, max_leaf_nodes=None,\n",
       "            min_impurity_decrease=0.0, min_impurity_split=None,\n",
       "            min_samples_leaf=1, min_samples_split=2,\n",
       "            min_weight_fraction_leaf=0.0, presort=False, random_state=None,\n",
       "            splitter='best')"
      ]
     },
     "execution_count": 63,
     "metadata": {},
     "output_type": "execute_result"
    }
   ],
   "source": [
    "clf_tree = tree.DecisionTreeClassifier()\n",
    "clf_tree.fit(x_train, y_train)"
   ]
  },
  {
   "cell_type": "code",
   "execution_count": 64,
   "metadata": {
    "collapsed": true
   },
   "outputs": [],
   "source": [
    "y_pred_tree = clf_tree.predict(x_test)\n",
    "tree_result = accuracy_score(y_test, y_pred_tree.round())"
   ]
  },
  {
   "cell_type": "markdown",
   "metadata": {},
   "source": [
    "show result"
   ]
  },
  {
   "cell_type": "code",
   "execution_count": 65,
   "metadata": {},
   "outputs": [
    {
     "data": {
      "text/plain": [
       "0.99144775040583932"
      ]
     },
     "execution_count": 65,
     "metadata": {},
     "output_type": "execute_result"
    }
   ],
   "source": [
    "tree_result"
   ]
  },
  {
   "cell_type": "markdown",
   "metadata": {},
   "source": [
    "show confusion matrix"
   ]
  },
  {
   "cell_type": "code",
   "execution_count": 68,
   "metadata": {},
   "outputs": [
    {
     "data": {
      "text/plain": [
       "array([[333896,   1366],\n",
       "       [  1521,    789]], dtype=int64)"
      ]
     },
     "execution_count": 68,
     "metadata": {},
     "output_type": "execute_result"
    }
   ],
   "source": [
    "confusion_matrix(y_test, y_pred_tree.round())"
   ]
  },
  {
   "cell_type": "markdown",
   "metadata": {},
   "source": [
    "## 2) Build a new model to avoid overfitting"
   ]
  },
  {
   "cell_type": "code",
   "execution_count": 69,
   "metadata": {
    "collapsed": true
   },
   "outputs": [],
   "source": [
    "clf_tree_new = tree.DecisionTreeClassifier(max_depth = 3)\n",
    "clf_tree_new.fit(x_train, y_train)\n",
    "y_pred_tree_new = clf_tree_new.predict(x_test)\n",
    "tree_result_new = accuracy_score(y_test, y_pred_tree_new.round())"
   ]
  },
  {
   "cell_type": "code",
   "execution_count": 70,
   "metadata": {},
   "outputs": [
    {
     "data": {
      "text/plain": [
       "0.99315701539227186"
      ]
     },
     "execution_count": 70,
     "metadata": {},
     "output_type": "execute_result"
    }
   ],
   "source": [
    "tree_result_new"
   ]
  },
  {
   "cell_type": "markdown",
   "metadata": {},
   "source": [
    "show confusion matrix"
   ]
  },
  {
   "cell_type": "code",
   "execution_count": 71,
   "metadata": {},
   "outputs": [
    {
     "data": {
      "text/plain": [
       "array([[335262,      0],\n",
       "       [  2310,      0]], dtype=int64)"
      ]
     },
     "execution_count": 71,
     "metadata": {},
     "output_type": "execute_result"
    }
   ],
   "source": [
    "confusion_matrix(y_test, y_pred_tree_new.round())"
   ]
  },
  {
   "cell_type": "markdown",
   "metadata": {},
   "source": [
    "Draw the dicision tree"
   ]
  },
  {
   "cell_type": "code",
   "execution_count": 38,
   "metadata": {
    "collapsed": true
   },
   "outputs": [],
   "source": [
    "dot_data = tree.export_graphviz(clf_tree_new, out_file=None) \n",
    "graph = graphviz.Source(dot_data) \n",
    "graph.render(\"backorder\") "
   ]
  },
  {
   "cell_type": "code",
   "execution_count": null,
   "metadata": {
    "collapsed": true
   },
   "outputs": [],
   "source": [
    "dot_data = tree.export_graphviz(clf_tree_new, out_file=None, \n",
    "                         feature_names=list(x_transform),  \n",
    "                         class_names=\"IfBackorder\",  \n",
    "                         filled=True, rounded=True,  \n",
    "                         special_characters=True)  \n",
    "graph = graphviz.Source(dot_data)  \n",
    "graph "
   ]
  },
  {
   "cell_type": "markdown",
   "metadata": {},
   "source": [
    "## 3) Random Forest"
   ]
  },
  {
   "cell_type": "code",
   "execution_count": 72,
   "metadata": {},
   "outputs": [
    {
     "data": {
      "text/plain": [
       "RandomForestClassifier(bootstrap=True, class_weight=None, criterion='gini',\n",
       "            max_depth=None, max_features='auto', max_leaf_nodes=None,\n",
       "            min_impurity_decrease=0.0, min_impurity_split=None,\n",
       "            min_samples_leaf=1, min_samples_split=2,\n",
       "            min_weight_fraction_leaf=0.0, n_estimators=10, n_jobs=2,\n",
       "            oob_score=False, random_state=0, verbose=0, warm_start=False)"
      ]
     },
     "execution_count": 72,
     "metadata": {},
     "output_type": "execute_result"
    }
   ],
   "source": [
    "clf = RandomForestClassifier(n_jobs=2, random_state=0)\n",
    "clf.fit(x_train, y_train)"
   ]
  },
  {
   "cell_type": "markdown",
   "metadata": {},
   "source": [
    "show result"
   ]
  },
  {
   "cell_type": "code",
   "execution_count": 74,
   "metadata": {},
   "outputs": [
    {
     "data": {
      "text/plain": [
       "0.99426196485490503"
      ]
     },
     "execution_count": 74,
     "metadata": {},
     "output_type": "execute_result"
    }
   ],
   "source": [
    "y_pred_clf = clf.predict(x_test)\n",
    "accuracy_score(y_test, y_pred_clf.round())"
   ]
  },
  {
   "cell_type": "markdown",
   "metadata": {},
   "source": [
    "show confusion matrix"
   ]
  },
  {
   "cell_type": "code",
   "execution_count": 75,
   "metadata": {},
   "outputs": [
    {
     "data": {
      "text/plain": [
       "array([[335118,    144],\n",
       "       [  1793,    517]], dtype=int64)"
      ]
     },
     "execution_count": 75,
     "metadata": {},
     "output_type": "execute_result"
    }
   ],
   "source": [
    "confusion_matrix(y_test, y_pred_clf.round())"
   ]
  },
  {
   "cell_type": "markdown",
   "metadata": {},
   "source": [
    "# e. References."
   ]
  },
  {
   "cell_type": "markdown",
   "metadata": {},
   "source": [
    "1. Matt, Dancho (2017). Sales Analytics: How to Use Machine Learning to Predict and Optimize Product Backorders. Retrieved from http://www.business-science.io/business/2017/10/16/sales_backorder_prediction.html\n",
    "2. Yuqi, Li (2017). AALBORG UNIVERSITY Backorder Prediction Using Machine\n",
    "Learning For Danish Craft Beer Breweries. Retrieved from http://projekter.aau.dk/projekter/files/262657498/master_thesis.pdf\n",
    "3. Rodrigo, Santis (2017). Predicting Material Backorders in Inventory\n",
    "Management using Machine Learning. Retrieved from https://www.researchgate.net/publication/319553365_Predicting_Material_Backorders_in_Inventory_Management_using_Machine_Learning\n",
    "4. Jason, Brownlee (2017). How to Handle Missing Data with Python. Retrieved from https://machinelearningmastery.com/handle-missing-data-python/\n",
    "5. FastML (2017). Converting categorical data into numbers with Pandas and Scikit-learn. Retrieved from http://fastml.com/converting-categorical-data-into-numbers-with-pandas-and-scikit-learn/\n",
    "6. Mode (2017). Python Histograms, Box Plots, & Distributions. Retrieved from https://community.modeanalytics.com/python/tutorial/python-histograms-boxplots-and-distributions/\n"
   ]
  },
  {
   "cell_type": "markdown",
   "metadata": {},
   "source": [
    "# f. Analysis"
   ]
  },
  {
   "cell_type": "markdown",
   "metadata": {},
   "source": [
    "Conclusion: \n",
    "1)\tOne of the effective way to avoid overfitting is set max depth for the decision tree model.\n",
    "2)\tRandom forest is an optimized version of decision tree which can predict the result more accuracy than decision tree.\n",
    "3)\tSVM is not very suitable for a very large dataset.\n",
    "\n",
    "1. To build a predictive model for this classification problem, I try to use SVM model firstly. Support vector machine is a supervised learning model used for classification. However, it runs too slow to build a model with 1687861 records. \n",
    "2. Next model I used is decision tree. Decision tree is a decision support tool that uses a tree-like graph or model of decisions and their possible consequences, including chance event outcomes, resource costs, and utility. I used default parameters this time and got a good result. The accuracy score of this prediction is 0.991.\n",
    "3. To avoid overfitting, I set max_depth = 3 to build a new decision tree. This time I got a better accuracy score: 0.993.\n",
    "4. In order to get a better predictive model, I tried random forest at the end. Random forest is an ensemble learning method for classification, regression and other tasks, that operate by constructing a multitude of decision trees at training time and outputting the class that is the mode of the classes. I got the best result among these 3 modes: 0.994."
   ]
  }
 ],
 "metadata": {
  "kernelspec": {
   "display_name": "Python 3",
   "language": "python",
   "name": "python3"
  },
  "language_info": {
   "codemirror_mode": {
    "name": "ipython",
    "version": 3
   },
   "file_extension": ".py",
   "mimetype": "text/x-python",
   "name": "python",
   "nbconvert_exporter": "python",
   "pygments_lexer": "ipython3",
   "version": "3.6.3"
  }
 },
 "nbformat": 4,
 "nbformat_minor": 2
}
